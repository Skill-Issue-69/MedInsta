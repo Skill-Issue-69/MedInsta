{
  "nbformat": 4,
  "nbformat_minor": 0,
  "metadata": {
    "colab": {
      "provenance": [],
      "gpuType": "T4"
    },
    "kernelspec": {
      "name": "python3",
      "display_name": "Python 3"
    },
    "language_info": {
      "name": "python"
    },
    "accelerator": "GPU"
  },
  "cells": [
    {
      "cell_type": "code",
      "execution_count": 1,
      "metadata": {
        "colab": {
          "base_uri": "https://localhost:8080/"
        },
        "id": "I9Ll8MQdb4T_",
        "outputId": "fe5558e8-8aee-40a5-80f6-3287f786bfcb"
      },
      "outputs": [
        {
          "output_type": "stream",
          "name": "stdout",
          "text": [
            "Collecting together\n",
            "  Downloading together-1.4.6-py3-none-any.whl.metadata (14 kB)\n",
            "Requirement already satisfied: aiohttp<4.0.0,>=3.9.3 in /usr/local/lib/python3.11/dist-packages (from together) (3.11.14)\n",
            "Requirement already satisfied: click<9.0.0,>=8.1.7 in /usr/local/lib/python3.11/dist-packages (from together) (8.1.8)\n",
            "Collecting eval-type-backport<0.3.0,>=0.1.3 (from together)\n",
            "  Downloading eval_type_backport-0.2.2-py3-none-any.whl.metadata (2.2 kB)\n",
            "Requirement already satisfied: filelock<4.0.0,>=3.13.1 in /usr/local/lib/python3.11/dist-packages (from together) (3.18.0)\n",
            "Requirement already satisfied: numpy>=1.23.5 in /usr/local/lib/python3.11/dist-packages (from together) (2.0.2)\n",
            "Requirement already satisfied: pillow<12.0.0,>=11.1.0 in /usr/local/lib/python3.11/dist-packages (from together) (11.1.0)\n",
            "Requirement already satisfied: pyarrow>=10.0.1 in /usr/local/lib/python3.11/dist-packages (from together) (18.1.0)\n",
            "Requirement already satisfied: pydantic<3.0.0,>=2.6.3 in /usr/local/lib/python3.11/dist-packages (from together) (2.10.6)\n",
            "Requirement already satisfied: requests<3.0.0,>=2.31.0 in /usr/local/lib/python3.11/dist-packages (from together) (2.32.3)\n",
            "Requirement already satisfied: rich<14.0.0,>=13.8.1 in /usr/local/lib/python3.11/dist-packages (from together) (13.9.4)\n",
            "Requirement already satisfied: tabulate<0.10.0,>=0.9.0 in /usr/local/lib/python3.11/dist-packages (from together) (0.9.0)\n",
            "Requirement already satisfied: tqdm<5.0.0,>=4.66.2 in /usr/local/lib/python3.11/dist-packages (from together) (4.67.1)\n",
            "Requirement already satisfied: typer<0.16,>=0.9 in /usr/local/lib/python3.11/dist-packages (from together) (0.15.2)\n",
            "Requirement already satisfied: aiohappyeyeballs>=2.3.0 in /usr/local/lib/python3.11/dist-packages (from aiohttp<4.0.0,>=3.9.3->together) (2.6.1)\n",
            "Requirement already satisfied: aiosignal>=1.1.2 in /usr/local/lib/python3.11/dist-packages (from aiohttp<4.0.0,>=3.9.3->together) (1.3.2)\n",
            "Requirement already satisfied: attrs>=17.3.0 in /usr/local/lib/python3.11/dist-packages (from aiohttp<4.0.0,>=3.9.3->together) (25.3.0)\n",
            "Requirement already satisfied: frozenlist>=1.1.1 in /usr/local/lib/python3.11/dist-packages (from aiohttp<4.0.0,>=3.9.3->together) (1.5.0)\n",
            "Requirement already satisfied: multidict<7.0,>=4.5 in /usr/local/lib/python3.11/dist-packages (from aiohttp<4.0.0,>=3.9.3->together) (6.2.0)\n",
            "Requirement already satisfied: propcache>=0.2.0 in /usr/local/lib/python3.11/dist-packages (from aiohttp<4.0.0,>=3.9.3->together) (0.3.0)\n",
            "Requirement already satisfied: yarl<2.0,>=1.17.0 in /usr/local/lib/python3.11/dist-packages (from aiohttp<4.0.0,>=3.9.3->together) (1.18.3)\n",
            "Requirement already satisfied: annotated-types>=0.6.0 in /usr/local/lib/python3.11/dist-packages (from pydantic<3.0.0,>=2.6.3->together) (0.7.0)\n",
            "Requirement already satisfied: pydantic-core==2.27.2 in /usr/local/lib/python3.11/dist-packages (from pydantic<3.0.0,>=2.6.3->together) (2.27.2)\n",
            "Requirement already satisfied: typing-extensions>=4.12.2 in /usr/local/lib/python3.11/dist-packages (from pydantic<3.0.0,>=2.6.3->together) (4.12.2)\n",
            "Requirement already satisfied: charset-normalizer<4,>=2 in /usr/local/lib/python3.11/dist-packages (from requests<3.0.0,>=2.31.0->together) (3.4.1)\n",
            "Requirement already satisfied: idna<4,>=2.5 in /usr/local/lib/python3.11/dist-packages (from requests<3.0.0,>=2.31.0->together) (3.10)\n",
            "Requirement already satisfied: urllib3<3,>=1.21.1 in /usr/local/lib/python3.11/dist-packages (from requests<3.0.0,>=2.31.0->together) (2.3.0)\n",
            "Requirement already satisfied: certifi>=2017.4.17 in /usr/local/lib/python3.11/dist-packages (from requests<3.0.0,>=2.31.0->together) (2025.1.31)\n",
            "Requirement already satisfied: markdown-it-py>=2.2.0 in /usr/local/lib/python3.11/dist-packages (from rich<14.0.0,>=13.8.1->together) (3.0.0)\n",
            "Requirement already satisfied: pygments<3.0.0,>=2.13.0 in /usr/local/lib/python3.11/dist-packages (from rich<14.0.0,>=13.8.1->together) (2.18.0)\n",
            "Requirement already satisfied: shellingham>=1.3.0 in /usr/local/lib/python3.11/dist-packages (from typer<0.16,>=0.9->together) (1.5.4)\n",
            "Requirement already satisfied: mdurl~=0.1 in /usr/local/lib/python3.11/dist-packages (from markdown-it-py>=2.2.0->rich<14.0.0,>=13.8.1->together) (0.1.2)\n",
            "Downloading together-1.4.6-py3-none-any.whl (85 kB)\n",
            "\u001b[2K   \u001b[90m━━━━━━━━━━━━━━━━━━━━━━━━━━━━━━━━━━━━━━━━\u001b[0m \u001b[32m85.4/85.4 kB\u001b[0m \u001b[31m3.0 MB/s\u001b[0m eta \u001b[36m0:00:00\u001b[0m\n",
            "\u001b[?25hDownloading eval_type_backport-0.2.2-py3-none-any.whl (5.8 kB)\n",
            "Installing collected packages: eval-type-backport, together\n",
            "Successfully installed eval-type-backport-0.2.2 together-1.4.6\n"
          ]
        }
      ],
      "source": [
        "!pip install together\n"
      ]
    },
    {
      "cell_type": "code",
      "source": [
        "import together\n",
        "\n",
        "together.api_key = \"tgp_v1_vmEPQZI2siJ07sHrXbYuAWJEanvrL8l6X1vOIjSyFkE\"\n"
      ],
      "metadata": {
        "id": "uk5C9nMHcOp7"
      },
      "execution_count": 2,
      "outputs": []
    },
    {
      "cell_type": "code",
      "source": [
        "!export TOGETHER_API_KEY=\"tgp_v1_vmEPQZI2siJ07sHrXbYuAWJEanvrL8l6X1vOIjSyFkE\""
      ],
      "metadata": {
        "id": "wyJgW9ERdptJ"
      },
      "execution_count": 8,
      "outputs": []
    },
    {
      "cell_type": "code",
      "source": [
        "response = together.Complete.create(\n",
        "    model=\"meta-llama/Llama-3.3-70B-Instruct-Turbo-Free\",\n",
        "    prompt=\"I have a sore throat, runny nose, and pain on both sides of my neck. What could be the cause? Provide a detailed medical response.\",\n",
        "    max_tokens=1024,\n",
        "    temperature=0.5,\n",
        "    top_p=0.9\n",
        ")\n",
        "\n",
        "print(response[\"choices\"][0][\"text\"].strip())\n"
      ],
      "metadata": {
        "colab": {
          "base_uri": "https://localhost:8080/"
        },
        "id": "zQtmxmnacVhC",
        "outputId": "18652f14-6eb8-4087-f6bc-0c88c2af677a"
      },
      "execution_count": 11,
      "outputs": [
        {
          "output_type": "stream",
          "name": "stderr",
          "text": [
            "<ipython-input-11-8994bfbb95f3>:1: DeprecationWarning: Call to deprecated function create.\n",
            "  response = together.Complete.create(\n"
          ]
        },
        {
          "output_type": "stream",
          "name": "stdout",
          "text": [
            "**\n",
            "\n",
            "A sore throat, runny nose, and pain on both sides of the neck can be caused by several conditions, ranging from viral infections to allergic reactions. The combination of these symptoms often points towards an upper respiratory tract infection, but it's essential to consider other possibilities as well. Here's a detailed breakdown of potential causes and their characteristics:\n",
            "\n",
            "1. **Viral Pharyngitis**: This is one of the most common causes of a sore throat and can be accompanied by a runny nose. Viruses such as the common cold (rhinovirus), influenza, adenovirus, and respiratory syncytial virus (RSV) are typical culprits. The pain on both sides of the neck could be due to lymphadenopathy (enlarged lymph nodes), which is a response to the infection.\n",
            "\n",
            "2. **Tonsillitis**: Inflammation of the tonsils, which can be caused by both viral and bacterial infections. Symptoms include sore throat, difficulty swallowing, fever, and swollen, tender lymph nodes in the neck. The runny nose might not be a direct symptom but can occur if the infection is part of a broader upper respiratory infection.\n",
            "\n",
            "3. **Sinusitis**: Inflammation or infection of the sinuses can cause a runny nose, sore throat (due to postnasal drip), and pain in the neck, especially if the infection spreads to the lymph nodes in the neck or causes referred pain.\n",
            "\n",
            "4. **Allergic Rhinitis**: Allergies can lead to a runny nose, sneezing, and itchy eyes. Postnasal drip from allergies can irritate the throat, leading to soreness. The neck pain could be less directly related but might occur due to muscle tension or as a referred pain from sinus pressure.\n",
            "\n",
            "5. **Mononucleosis (Mono)**: Caused by the Epstein-Barr virus, mono can lead to severe sore throat, fever, swollen lymph nodes (which could cause neck pain), and sometimes a runny nose. It's more common in teenagers and young adults.\n",
            "\n",
            "6. **Strep Throat**: A bacterial infection caused by Group A Streptococcus. It leads to a severe sore throat, fever, and swollen lymph nodes in the neck. A runny nose is not typically a primary symptom but can occur if there's a concurrent viral infection.\n",
            "\n",
            "**Diagnosis and Treatment**:\n",
            "- **Viral Infections**: Most viral infections are self-limiting and can be managed with rest, hydration, over-the-counter pain relievers (like acetaminophen or ibuprofen), and throat lozenges.\n",
            "- **Bacterial Infections (like Strep Throat)**: Require antibiotic treatment. A rapid strep test or throat culture can diagnose strep throat.\n",
            "- **Allergic Rhinitis**: Can be managed with antihistamines, nasal decongestants, and avoidance of allergens.\n",
            "- **Sinusitis**: May require antibiotics if bacterial, or nasal decongestants and pain relievers for viral cases.\n",
            "\n",
            "**When to Seek Medical Attention**:\n",
            "- Difficulty breathing\n",
            "- Severe headache or facial pain\n",
            "- Fever over 103°F (39.4°C)\n",
            "- Sore throat that lasts more than 2 days\n",
            "- Difficulty swallowing\n",
            "- Swollen, tender lymph nodes in the neck\n",
            "- Symptoms that worsen over time\n",
            "\n",
            "Given the variety of potential causes, a healthcare professional's evaluation is crucial for an accurate diagnosis and appropriate treatment plan. They can perform a physical examination, take a thorough medical history, and possibly order tests (like a throat swab for strep throat) to determine the underlying cause of your symptoms.\n"
          ]
        }
      ]
    }
  ]
}